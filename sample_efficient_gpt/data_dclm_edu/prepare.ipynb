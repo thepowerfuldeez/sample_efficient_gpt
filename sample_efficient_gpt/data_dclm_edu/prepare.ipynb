{
 "cells": [
  {
   "cell_type": "code",
   "execution_count": null,
   "id": "652ccea4",
   "metadata": {},
   "outputs": [],
   "source": [
    "# approximately 10B tokens\n",
    "CHARS_NEEDED = 72_000_000_000\n",
    "CHARS_NEEDED_VAL = 100_000_000"
   ]
  },
  {
   "cell_type": "code",
   "execution_count": null,
   "id": "3613e888",
   "metadata": {},
   "outputs": [],
   "source": [
    "from datasets import load_dataset, concatenate_datasets\n",
    "from tqdm.auto import tqdm\n",
    "\n",
    "from pathlib import Path\n",
    "train_path = Path(\"large/train.txt\")\n",
    "val_path = Path(\"large/val.txt\")"
   ]
  },
  {
   "cell_type": "markdown",
   "id": "c66ab1bb",
   "metadata": {},
   "source": [
    "We are using downloaded dataset https://huggingface.co/datasets/HuggingFaceTB/dclm-edu"
   ]
  },
  {
   "cell_type": "code",
   "execution_count": 1,
   "id": "aa6bf6a8",
   "metadata": {},
   "outputs": [
    {
     "name": "stdout",
     "output_type": "stream",
     "text": [
      "000_00000.parquet  006_00000.parquet  012_00000.parquet  018_00000.parquet\n",
      "001_00000.parquet  007_00000.parquet  013_00000.parquet  019_00000.parquet\n",
      "002_00000.parquet  008_00000.parquet  014_00000.parquet  020_00000.parquet\n",
      "003_00000.parquet  009_00000.parquet  015_00000.parquet  64446_stats.json\n",
      "004_00000.parquet  010_00000.parquet  016_00000.parquet\n",
      "005_00000.parquet  011_00000.parquet  017_00000.parquet\n"
     ]
    }
   ],
   "source": [
    "!ls /mnt/harddrive/datasets/dclm-edu/data/"
   ]
  },
  {
   "cell_type": "code",
   "execution_count": 7,
   "id": "21e9d049",
   "metadata": {},
   "outputs": [
    {
     "name": "stderr",
     "output_type": "stream",
     "text": [
      "Filter (num_proc=4): 2920000 examples [00:03, 376598.46 examples/s]          \n",
      "Map (num_proc=4): 2064694 examples [00:11, 88818.79 examples/s]           \n",
      "Filter (num_proc=4): 2916000 examples [00:04, 359415.00 examples/s]          \n",
      "Map (num_proc=4): 100%|██████████| 1035062/1035062 [00:11<00:00, 88627.23 examples/s]\n",
      "Generating train split: 1458000 examples [00:32, 45054.08 examples/s]\n",
      "Filter (num_proc=4): 100%|██████████| 1458000/1458000 [00:04<00:00, 363215.46 examples/s]\n",
      "Map (num_proc=4): 100%|██████████| 1034976/1034976 [00:12<00:00, 84372.57 examples/s]\n",
      "Generating train split: 1471000 examples [00:32, 45334.88 examples/s]\n",
      "Filter (num_proc=4): 100%|██████████| 1471000/1471000 [00:04<00:00, 359413.58 examples/s]\n",
      "Map (num_proc=4): 100%|██████████| 1043177/1043177 [00:13<00:00, 76863.09 examples/s]\n",
      "Generating train split: 1464000 examples [00:32, 45243.84 examples/s]\n",
      "Filter (num_proc=4): 100%|██████████| 1464000/1464000 [00:03<00:00, 374469.02 examples/s]\n",
      "Map (num_proc=4): 100%|██████████| 1036961/1036961 [00:11<00:00, 88814.80 examples/s] \n",
      "Generating train split: 1463000 examples [00:33, 44066.25 examples/s]\n",
      "Filter (num_proc=4): 100%|██████████| 1463000/1463000 [00:04<00:00, 308741.19 examples/s]\n",
      "Map (num_proc=4): 100%|██████████| 1033608/1033608 [00:11<00:00, 89549.96 examples/s] \n",
      "Generating train split: 1461000 examples [00:32, 44864.21 examples/s]\n",
      "Filter (num_proc=4): 100%|██████████| 1461000/1461000 [00:03<00:00, 371939.17 examples/s]\n",
      "Map (num_proc=4): 100%|██████████| 1035498/1035498 [00:11<00:00, 89510.74 examples/s]\n",
      "Generating train split: 1469000 examples [00:32, 45262.91 examples/s]\n",
      "Filter (num_proc=4): 100%|██████████| 1469000/1469000 [00:04<00:00, 363314.27 examples/s]\n",
      "Map (num_proc=4): 100%|██████████| 1040719/1040719 [00:11<00:00, 87485.47 examples/s] \n",
      "Generating train split: 1462000 examples [00:32, 44901.72 examples/s]\n",
      "Filter (num_proc=4): 100%|██████████| 1462000/1462000 [00:03<00:00, 377819.57 examples/s]\n",
      "Map (num_proc=4): 100%|██████████| 1035330/1035330 [00:12<00:00, 81558.70 examples/s]\n",
      "Generating train split: 1460000 examples [00:32, 44458.48 examples/s]\n",
      "Filter (num_proc=4): 100%|██████████| 1460000/1460000 [00:03<00:00, 370284.11 examples/s]\n",
      "Map (num_proc=4): 100%|██████████| 1033657/1033657 [00:11<00:00, 87279.64 examples/s] \n"
     ]
    }
   ],
   "source": [
    "concat_ds = None\n",
    "for i in range(10):\n",
    "    chunk_path = f\"/mnt/harddrive/datasets/dclm-edu/data/0{i:02d}_00000.parquet\"\n",
    "\n",
    "    ds = load_dataset(\"parquet\", data_files=str(chunk_path), split=\"train\")  # Arrow-backed, zero-copy-ish\n",
    "    ds = ds.filter(lambda ex: ex[\"metadata\"][\"edu_score\"] > 2.75, num_proc=4, load_from_cache_file=False)\n",
    "    ds = ds.map(lambda ex: {\"text\": ex[\"text\"] + \"<|endoftext|>\"}, num_proc=4, load_from_cache_file=False)\n",
    "    if concat_ds is None:\n",
    "        concat_ds = ds\n",
    "    else:\n",
    "        concat_ds = concatenate_datasets([concat_ds, ds])"
   ]
  },
  {
   "cell_type": "code",
   "execution_count": 11,
   "id": "76f12efc",
   "metadata": {},
   "outputs": [],
   "source": [
    "val_handle = val_path.open(\"w\")\n",
    "train_handle = train_path.open(\"w\")"
   ]
  },
  {
   "cell_type": "code",
   "execution_count": null,
   "id": "8d2d2052",
   "metadata": {},
   "outputs": [
    {
     "name": "stderr",
     "output_type": "stream",
     "text": [
      "100%|██████████| 10361335/10361335 [05:03<00:00, 34091.95it/s]\n"
     ]
    }
   ],
   "source": [
    "# Write data to txt in batches\n",
    "\n",
    "listout = []\n",
    "i = 0\n",
    "chars_processed = 0\n",
    "for row in tqdm(concat_ds):\n",
    "    listout.append(row[\"text\"])\n",
    "    if chars_processed <= CHARS_NEEDED_VAL:\n",
    "        batch = 100\n",
    "        if len(listout) > batch:\n",
    "            _ = val_handle.write(\"\".join(listout))\n",
    "            listout = []\n",
    "    elif CHARS_NEEDED_VAL < chars_processed <= CHARS_NEEDED:\n",
    "        if len(listout) > 1000:\n",
    "            _ = train_handle.write(\"\".join(listout))\n",
    "            listout = []\n",
    "    elif chars_processed > CHARS_NEEDED:\n",
    "        break\n",
    "\n",
    "    chars_processed += len(row[\"text\"])\n",
    "    i += 1"
   ]
  },
  {
   "cell_type": "code",
   "execution_count": 14,
   "id": "8a5679a2",
   "metadata": {},
   "outputs": [],
   "source": [
    "train_handle.close()\n",
    "val_handle.close()"
   ]
  },
  {
   "cell_type": "code",
   "execution_count": 16,
   "id": "5e239982",
   "metadata": {},
   "outputs": [
    {
     "name": "stdout",
     "output_type": "stream",
     "text": [
      "total 58G\n",
      "-rw-rw-r-- 1 george george 58G Oct  5 00:59 train.txt\n",
      "-rw-rw-r-- 1 george george 96M Oct  5 00:54 val.txt\n"
     ]
    }
   ],
   "source": [
    "!ls -lh large"
   ]
  }
 ],
 "metadata": {
  "kernelspec": {
   "display_name": "sample-efficient-gpt",
   "language": "python",
   "name": "python3"
  },
  "language_info": {
   "codemirror_mode": {
    "name": "ipython",
    "version": 3
   },
   "file_extension": ".py",
   "mimetype": "text/x-python",
   "name": "python",
   "nbconvert_exporter": "python",
   "pygments_lexer": "ipython3",
   "version": "3.13.3"
  }
 },
 "nbformat": 4,
 "nbformat_minor": 5
}
